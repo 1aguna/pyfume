{
 "nbformat": 4,
 "nbformat_minor": 2,
 "metadata": {
  "language_info": {
   "name": "python",
   "codemirror_mode": {
    "name": "ipython",
    "version": 3
   },
   "version": "3.7.3-final"
  },
  "orig_nbformat": 2,
  "file_extension": ".py",
  "mimetype": "text/x-python",
  "name": "python",
  "npconvert_exporter": "python",
  "pygments_lexer": "ipython3",
  "version": 3,
  "kernelspec": {
   "name": "python37364bit3f2257a12fbd4944badc561a6e49f36c",
   "display_name": "Python 3.7.3 64-bit"
  }
 },
 "cells": [
  {
   "cell_type": "code",
   "execution_count": 4,
   "metadata": {},
   "outputs": [],
   "source": [
    "from selenium import webdriver\n",
    "from bs4 import BeautifulSoup\n",
    "from seleniumwire import webdriver\n",
    "import time\n",
    "from lxml import html\n",
    "from lxml import etree\n",
    "import re\n",
    "import requests"
   ]
  },
  {
   "cell_type": "code",
   "execution_count": 95,
   "metadata": {},
   "outputs": [],
   "source": [
    "url = 'https://www.fragrantica.com/perfume/Diptyque/Philosykos-3865.html'\n",
    "# url = 'https://www.fragrantica.com/perfume/18-21-Man-Made/Sweet-Tobacco-Spirits-37691.html'\n",
    "page = requests.get(url)\n",
    "\n",
    "soup = BeautifulSoup(page.content, 'lxml')\n",
    "# browser.implicitly_wait(5)\n",
    "\n"
   ]
  },
  {
   "cell_type": "code",
   "execution_count": 94,
   "metadata": {},
   "outputs": [],
   "source": [
    "# browser = webdriver.Firefox()\n",
    "# browser.get(url)\n",
    "# # html = browser.execute_script(\"return document.getElementsByTagName('html')[0].innerHTML\")\n",
    "# innerHTML = browser.execute_script(\"return document.body\")\n",
    "# # s_soup = BeautifulSoup(browser.page_source, \"lxml\")\n",
    "# print(browser.page_source)"
   ]
  },
  {
   "cell_type": "code",
   "execution_count": 86,
   "metadata": {},
   "outputs": [
    {
     "name": "stdout",
     "output_type": "stream",
     "text": "[]\n"
    }
   ],
   "source": [
    "gres = s_soup.find_all(\"g\")\n",
    "print(gres)"
   ]
  },
  {
   "cell_type": "code",
   "execution_count": 114,
   "metadata": {},
   "outputs": [
    {
     "name": "stdout",
     "output_type": "stream",
     "text": "Popular Perfume Brands from A-Z - Overview\n"
    }
   ],
   "source": [
    "page_title = tree.xpath(\"//title/text()\")[0]\n",
    "print(page_title)\n"
   ]
  },
  {
   "cell_type": "markdown",
   "metadata": {},
   "source": [
    "# Scrape Popular Brands"
   ]
  },
  {
   "cell_type": "code",
   "execution_count": 90,
   "metadata": {},
   "outputs": [
    {
     "name": "stdout",
     "output_type": "stream",
     "text": "https://www.parfumo.net/Perfumes/4160_Tuesdays\nhttps://www.parfumo.net/Perfumes/4711\nhttps://www.parfumo.net/Perfumes/A_Lab_on_Fire\nhttps://www.parfumo.net/Perfumes/Abdul_Samad_Al_Qurashi\nhttps://www.parfumo.net/Perfumes/Abercrombie_Fitch\nhttps://www.parfumo.net/Perfumes/Acca_Kappa\nhttps://www.parfumo.net/Perfumes/Acqua_di_Parma\nhttps://www.parfumo.net/Perfumes/Adidas\nhttps://www.parfumo.net/Perfumes/Adolfo_Dominguez\nhttps://www.parfumo.net/Perfumes/Aedes_de_Venustas\nhttps://www.parfumo.net/Perfumes/Aerin\n"
    }
   ],
   "source": [
    "# p = tree.xpath(\"/html/body/div[2]/div/div/div[1]/text()\")\n",
    "# res = tree.xpath(\"//div[contains(@class, 'list-col-3')]\")\n",
    "\n",
    "res_set = soup.find_all('div', class_=\"list-col-3\")\n",
    "\n",
    "i = 0\n",
    "for res in res_set:\n",
    "    link = res.find('a')['href']\n",
    "    print(link)\n",
    "    i += 1\n",
    "\n",
    "    if i == 11:\n",
    "        break\n",
    "# print(res['href'])\n"
   ]
  },
  {
   "cell_type": "markdown",
   "metadata": {},
   "source": [
    "## Scraping Brand Page"
   ]
  },
  {
   "cell_type": "code",
   "execution_count": 96,
   "metadata": {},
   "outputs": [],
   "source": [
    "url = \"https://www.parfumo.net/Perfumes/Parfums_de_Marly/Athalia\"\n",
    "page = requests.get(url)\n",
    "soup = BeautifulSoup(page.content, 'lxml')\n",
    "\n"
   ]
  },
  {
   "cell_type": "markdown",
   "metadata": {},
   "source": [
    "## Scraping Name and Brand"
   ]
  },
  {
   "cell_type": "code",
   "execution_count": 92,
   "metadata": {},
   "outputs": [],
   "source": [
    "split_url = url.split(\"/\")\n",
    "# print(split_url)\n",
    "\n",
    "name = split_url[-1]\n",
    "brand = split_url[-2]\n",
    "\n",
    "# brand = soup.find(\"span\", itemprop=\"title\")\n",
    "# print(brand.text)\n",
    "# name_str = name.text.split()\n",
    "# # print(name_str)\n",
    "\n",
    "# GET YEAR AND CLEAN ##\n",
    "# year = name_str[-1]\n",
    "# year_clean =ear[1:-1]\n",
    "# print(year_clean)\n",
    "\n"
   ]
  },
  {
   "cell_type": "markdown",
   "metadata": {},
   "source": [
    "## WORKING Scrape Longevity and Sillage"
   ]
  },
  {
   "cell_type": "code",
   "execution_count": 97,
   "metadata": {},
   "outputs": [
    {
     "name": "stdout",
     "output_type": "stream",
     "text": "Longevity: 80.5435, Sillage: 74.0\n"
    }
   ],
   "source": [
    "##### WORKING #######\n",
    "\n",
    "# results = soup.find_all('div', id=re.compile(\"bar_\"))\n",
    "results = soup.find_all('span', class_=['fill barfiller_color_dur', 'fill barfiller_color_sillage'])\n",
    "\n",
    "long = float(results[0]['data-percentage'])\n",
    "sill = float(results[1]['data-percentage'])\n",
    "\n",
    "print(f\"Longevity: {long}, Sillage: {sill}\")"
   ]
  },
  {
   "cell_type": "code",
   "execution_count": 21,
   "metadata": {},
   "outputs": [
    {
     "name": "stdout",
     "output_type": "stream",
     "text": "83.2258\n75.7895\n"
    }
   ],
   "source": [
    "p2 = requests.get(\"https://www.parfumo.net/Perfumes/Zoologist/Camel\")\n",
    "soup2 = BeautifulSoup(p2.content, 'lxml')\n",
    "\n",
    "r2 = soup2.find_all('span', class_=['fill barfiller_color_dur', 'fill barfiller_color_sillage'])\n",
    "\n",
    "for res in r2:\n",
    "    # a = res.find('span', class_=re.compile(\"fill barfiller\"))\n",
    "    # print(a)\n",
    "    print(res['data-percentage'])\n",
    "\n"
   ]
  },
  {
   "cell_type": "markdown",
   "metadata": {},
   "source": [
    "## WORKING Scrape Rating and Votes"
   ]
  },
  {
   "cell_type": "code",
   "execution_count": 44,
   "metadata": {},
   "outputs": [
    {
     "name": "stdout",
     "output_type": "stream",
     "text": "Rating: 80.4167, Votes: 96\n"
    }
   ],
   "source": [
    "results = soup.find('span', class_=['fill barfiller_color'])\n",
    "rating = float(results['data-percentage'])\n",
    "\n",
    "vote_elem = soup.find('span', class_=\"lightblue\")\n",
    "string = vote_elem.text\n",
    "number = string.split()[0]\n",
    "number = int(number[1:])\n",
    "print(f\"Rating: {rating}, Votes: {number}\")"
   ]
  },
  {
   "cell_type": "markdown",
   "metadata": {},
   "source": [
    "## WORKING Scrape Accords"
   ]
  },
  {
   "cell_type": "code",
   "execution_count": 118,
   "metadata": {},
   "outputs": [
    {
     "name": "stdout",
     "output_type": "stream",
     "text": "15\n2016\n"
    }
   ],
   "source": [
    "results = soup.find_all(\"span\", itemprop=\"description\")\n",
    "\n",
    "for a in results:\n",
    "    string = a.text\n",
    "\n",
    "str_list = string.split()\n",
    "idx = str_list.index(\"scent\")\n",
    "accords = str_list[idx + 2].split(\"-\")\n",
    "\n",
    "accord1 = accords[0]\n",
    "accord2 = accords[1][:-1]\n",
    "\n",
    "year_idx = str_list.index(\"released\")\n",
    "print(year_idx + 2)\n",
    "print(str_list[year_idx + 2][:-1])\n"
   ]
  },
  {
   "cell_type": "code",
   "execution_count": null,
   "metadata": {},
   "outputs": [],
   "source": []
  }
 ]
}