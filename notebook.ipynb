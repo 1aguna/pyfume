{
 "nbformat": 4,
 "nbformat_minor": 2,
 "metadata": {
  "language_info": {
   "name": "python",
   "codemirror_mode": {
    "name": "ipython",
    "version": 3
   },
   "version": "3.7.3-final"
  },
  "orig_nbformat": 2,
  "file_extension": ".py",
  "mimetype": "text/x-python",
  "name": "python",
  "npconvert_exporter": "python",
  "pygments_lexer": "ipython3",
  "version": 3,
  "kernelspec": {
   "name": "python37364bit3f2257a12fbd4944badc561a6e49f36c",
   "display_name": "Python 3.7.3 64-bit"
  }
 },
 "cells": [
  {
   "cell_type": "code",
   "execution_count": 1,
   "metadata": {},
   "outputs": [
    {
     "name": "stderr",
     "output_type": "stream",
     "text": "/usr/lib/python3.7/importlib/_bootstrap.py:219: RuntimeWarning: numpy.ufunc size changed, may indicate binary incompatibility. Expected 192 from C header, got 216 from PyObject\n  return f(*args, **kwds)\n"
    }
   ],
   "source": [
    "import pandas as pd\n",
    "import numpy as np \n",
    "from matplotlib import pyplot as plt"
   ]
  },
  {
   "cell_type": "code",
   "execution_count": 8,
   "metadata": {},
   "outputs": [
    {
     "data": {
      "text/html": "<div>\n<style scoped>\n    .dataframe tbody tr th:only-of-type {\n        vertical-align: middle;\n    }\n\n    .dataframe tbody tr th {\n        vertical-align: top;\n    }\n\n    .dataframe thead th {\n        text-align: right;\n    }\n</style>\n<table border=\"1\" class=\"dataframe\">\n  <thead>\n    <tr style=\"text-align: right;\">\n      <th></th>\n      <th>brand</th>\n      <th>name</th>\n      <th>year</th>\n      <th>rating</th>\n      <th>votes</th>\n      <th>longevity</th>\n      <th>sillage</th>\n      <th>accord1</th>\n      <th>accord2</th>\n    </tr>\n  </thead>\n  <tbody>\n    <tr>\n      <th>0</th>\n      <td>4160_Tuesdays</td>\n      <td>The Dark Heart Of Old Havana</td>\n      <td>2013.0</td>\n      <td>76.7568</td>\n      <td>37.0</td>\n      <td>79.5000</td>\n      <td>76.5000</td>\n      <td>sweet</td>\n      <td>spicy</td>\n    </tr>\n    <tr>\n      <th>1</th>\n      <td>4160_Tuesdays</td>\n      <td>Centrepiece</td>\n      <td>2015.0</td>\n      <td>81.5714</td>\n      <td>35.0</td>\n      <td>75.4167</td>\n      <td>67.8261</td>\n      <td>gourmand</td>\n      <td>sweet</td>\n    </tr>\n    <tr>\n      <th>2</th>\n      <td>4160_Tuesdays</td>\n      <td>Mother Nature s Naughty Daughters</td>\n      <td>2016.0</td>\n      <td>76.7742</td>\n      <td>31.0</td>\n      <td>83.9130</td>\n      <td>76.5217</td>\n      <td>fruity</td>\n      <td>floral</td>\n    </tr>\n    <tr>\n      <th>4</th>\n      <td>4160_Tuesdays</td>\n      <td>The Sexiest Scent on the Planet Ever IMHO</td>\n      <td>2013.0</td>\n      <td>72.9630</td>\n      <td>27.0</td>\n      <td>70.2174</td>\n      <td>63.0435</td>\n      <td>sweet</td>\n      <td>woody</td>\n    </tr>\n    <tr>\n      <th>5</th>\n      <td>4160_Tuesdays</td>\n      <td>Eau My Soul</td>\n      <td>2017.0</td>\n      <td>80.0000</td>\n      <td>20.0</td>\n      <td>79.4118</td>\n      <td>67.6471</td>\n      <td>spicy</td>\n      <td>woody</td>\n    </tr>\n    <tr>\n      <th>...</th>\n      <td>...</td>\n      <td>...</td>\n      <td>...</td>\n      <td>...</td>\n      <td>...</td>\n      <td>...</td>\n      <td>...</td>\n      <td>...</td>\n      <td>...</td>\n    </tr>\n    <tr>\n      <th>8456</th>\n      <td>Zoologist</td>\n      <td>squid</td>\n      <td>2019.0</td>\n      <td>80.8491</td>\n      <td>53.0</td>\n      <td>85.1020</td>\n      <td>79.7959</td>\n      <td>aquatic</td>\n      <td>spicy</td>\n    </tr>\n    <tr>\n      <th>8457</th>\n      <td>Zoologist</td>\n      <td>Dodo</td>\n      <td>2019.0</td>\n      <td>73.0769</td>\n      <td>52.0</td>\n      <td>86.2791</td>\n      <td>80.9302</td>\n      <td>green</td>\n      <td>spicy</td>\n    </tr>\n    <tr>\n      <th>8458</th>\n      <td>Zoologist</td>\n      <td>Panda 2017</td>\n      <td>2017.0</td>\n      <td>75.0000</td>\n      <td>51.0</td>\n      <td>77.6744</td>\n      <td>73.0233</td>\n      <td>green</td>\n      <td>fruity</td>\n    </tr>\n    <tr>\n      <th>8459</th>\n      <td>Zoologist</td>\n      <td>Chameleon</td>\n      <td>2019.0</td>\n      <td>75.8163</td>\n      <td>49.0</td>\n      <td>81.7073</td>\n      <td>74.3902</td>\n      <td>floral</td>\n      <td>sweet</td>\n    </tr>\n    <tr>\n      <th>8460</th>\n      <td>Zoologist</td>\n      <td>Beave</td>\n      <td>2014.0</td>\n      <td>55.4412</td>\n      <td>34.0</td>\n      <td>65.6452</td>\n      <td>58.0645</td>\n      <td>animal</td>\n      <td>woody</td>\n    </tr>\n  </tbody>\n</table>\n<p>6905 rows × 9 columns</p>\n</div>",
      "text/plain": "              brand                                       name    year  \\\n0     4160_Tuesdays               The Dark Heart Of Old Havana  2013.0   \n1     4160_Tuesdays                                Centrepiece  2015.0   \n2     4160_Tuesdays          Mother Nature s Naughty Daughters  2016.0   \n4     4160_Tuesdays  The Sexiest Scent on the Planet Ever IMHO  2013.0   \n5     4160_Tuesdays                                Eau My Soul  2017.0   \n...             ...                                        ...     ...   \n8456      Zoologist                                      squid  2019.0   \n8457      Zoologist                                       Dodo  2019.0   \n8458      Zoologist                                 Panda 2017  2017.0   \n8459      Zoologist                                  Chameleon  2019.0   \n8460      Zoologist                                      Beave  2014.0   \n\n       rating  votes  longevity  sillage   accord1 accord2  \n0     76.7568   37.0    79.5000  76.5000     sweet   spicy  \n1     81.5714   35.0    75.4167  67.8261  gourmand   sweet  \n2     76.7742   31.0    83.9130  76.5217    fruity  floral  \n4     72.9630   27.0    70.2174  63.0435     sweet   woody  \n5     80.0000   20.0    79.4118  67.6471     spicy   woody  \n...       ...    ...        ...      ...       ...     ...  \n8456  80.8491   53.0    85.1020  79.7959   aquatic   spicy  \n8457  73.0769   52.0    86.2791  80.9302     green   spicy  \n8458  75.0000   51.0    77.6744  73.0233     green  fruity  \n8459  75.8163   49.0    81.7073  74.3902    floral   sweet  \n8460  55.4412   34.0    65.6452  58.0645    animal   woody  \n\n[6905 rows x 9 columns]"
     },
     "execution_count": 8,
     "metadata": {},
     "output_type": "execute_result"
    }
   ],
   "source": [
    "data = pd.read_csv(\"parfumo_data.csv\")\n",
    "data.dropna()"
   ]
  },
  {
   "cell_type": "code",
   "execution_count": null,
   "metadata": {},
   "outputs": [],
   "source": []
  }
 ]
}